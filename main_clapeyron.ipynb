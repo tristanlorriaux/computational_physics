{
 "cells": [
  {
   "cell_type": "markdown",
   "id": "9a6b8590",
   "metadata": {},
   "source": [
    "# Comportement des isothermes de pression "
   ]
  },
  {
   "attachments": {
    "Van_der_Waals_Isotherms.PNG": {
     "image/png": "[encoded data removed]"
    }
   },
   "cell_type": "markdown",
   "id": "8ad9cd3d",
   "metadata": {},
   "source": [
    "Ce script s'intéresse à l'effet d'une transition de phase sur les isothermes de pression. Lorsque l'on passe une transition de phase, les isothermes de pression changent de comportement comme le montre l'image suivante qui plot les isothermes de pression pour un fluide de Van der Waals:\n",
    "![Van_der_Waals_Isotherms.PNG](attachment:Van_der_Waals_Isotherms.PNG)\n",
    "\n",
    "La transition de phase est marquée par l'apparition d'un minimum dans les iso-p. A partir de ce diagramme, il est possible de remonter au diagramme de phase de notre fluide."
   ]
  },
  {
   "cell_type": "markdown",
   "id": "14691600",
   "metadata": {},
   "source": [
    "## Importation des librairies et des routines"
   ]
  },
  {
   "cell_type": "code",
   "execution_count": 2,
   "id": "aa9798c3",
   "metadata": {},
   "outputs": [],
   "source": [
    "# Import standard libraries\n",
    "import numpy as np\n",
    "import matplotlib.pyplot as plt\n",
    "from matplotlib import animation, cm, colors, rc\n",
    "import random\n",
    "import math\n",
    "import time\n",
    "from imp import reload\n",
    "rc('animation', html='html5')\n",
    "\n",
    "# Import library of our own functions\n",
    "import MPCMolecularDynamics as MD\n",
    "reload(MD)\n",
    "from library import *\n",
    "\n",
    "#Include plots into notebook instead of plotting them in extra window\n",
    "%matplotlib inline "
   ]
  },
  {
   "cell_type": "markdown",
   "id": "fec186f7",
   "metadata": {},
   "source": [
    "## Balayage en  température pour différents volumes"
   ]
  },
  {
   "cell_type": "markdown",
   "id": "466a05ad",
   "metadata": {},
   "source": [
    "On souhaite tracer les isothermes dans un diagramme de Clapeyron. Pour celà, on utilise la relation $V=\\dfrac{N_\\mathrm{particules}}{\\rho}$. Ainsi, en faisant varier la densité, on fait varier le volume de l'enceinte. Il ne nous suffit plus que de régler les paramètres de notre simulation"
   ]
  },
  {
   "cell_type": "code",
   "execution_count": 67,
   "id": "b5ab1f4d",
   "metadata": {},
   "outputs": [
    {
     "name": "stdout",
     "output_type": "stream",
     "text": [
      "[0.05  0.075 0.1   0.15  0.2   0.25  0.35  0.45  0.55  0.55  0.6   0.65\n",
      " 0.7   0.75  0.775 0.8   0.825 0.85  0.875 0.9   0.925]\n"
     ]
    }
   ],
   "source": [
    "rho_range = np.concatenate((np.arange(0.05,0.125,0.025), np.arange(0.15,0.25,0.05),np.arange(0.25,0.55,0.1),np.arange(0.55,0.75,0.05),np.arange(0.75,0.95,0.025)))\n",
    "print(rho_range)\n"
   ]
  },
  {
   "cell_type": "code",
   "execution_count": 85,
   "id": "53579820",
   "metadata": {},
   "outputs": [
    {
     "name": "stdout",
     "output_type": "stream",
     "text": [
      "[0.1 0.3 0.5 0.7]\n"
     ]
    }
   ],
   "source": [
    "kT_range = np.array([0.1,0.3,0.5,0.7])\n",
    "print(kT_range)"
   ]
  },
  {
   "cell_type": "code",
   "execution_count": 86,
   "id": "0ec723ff",
   "metadata": {},
   "outputs": [
    {
     "name": "stdout",
     "output_type": "stream",
     "text": [
      "tau= 1.0\n",
      "One sweep over all state points corresponds to  840  separate simulations!\n"
     ]
    }
   ],
   "source": [
    "#### When in doubt use a small number of particles to speed up the simulations\n",
    "# In a perfect world (as opposed to an exam), we would generate data for different systems sizes \n",
    "# and study finite size effects.\n",
    "\n",
    "NParticles = 32\n",
    "m = np.ones(NParticles)\n",
    "d = 2\n",
    "\n",
    "# Lennard-Jones\n",
    "sigma = 1\n",
    "epsilon = 1\n",
    "tau = sigma*np.sqrt(m[0]/epsilon) #unit of time\n",
    "print('tau=',tau)\n",
    "\n",
    "# Not much fun, if we reduce this even further\n",
    "NTrajectories = 10\n",
    "run_time_equilibration = 2\n",
    "run_time_data_acquisition = 3\n",
    "\n",
    "print(\"One sweep over all state points corresponds to \", rho_range.size * kT_range.size * NTrajectories,\" separate simulations!\")\n",
    "\n",
    "# On my computer each of the for \"sweeps\" below took 2 minutes. If you are worried about time try first with\n",
    "# NTrajectories = 1"
   ]
  },
  {
   "cell_type": "markdown",
   "id": "bbbb2836",
   "metadata": {},
   "source": [
    "et de lancer la routine."
   ]
  },
  {
   "cell_type": "code",
   "execution_count": null,
   "id": "f3021a4a",
   "metadata": {
    "scrolled": true
   },
   "outputs": [
    {
     "name": "stdout",
     "output_type": "stream",
     "text": [
      "rho =  0.05 , kT =  0.1\n",
      "rho =  0.05 , kT =  0.3\n",
      "rho =  0.05 , kT =  0.5\n"
     ]
    }
   ],
   "source": [
    "# Create empty dictionaries for the data generated by MD simulations at specific state points\n",
    "t_tr_ens_from_NVT_heating = {}\n",
    "x_tr_ens_from_NVT_heating = {}\n",
    "y_tr_ens_from_NVT_heating = {}\n",
    "vx_tr_ens_from_NVT_heating = {}\n",
    "vy_tr_ens_from_NVT_heating = {}\n",
    "uPot_tr_ens_from_NVT_heating = {}\n",
    "uKin_tr_ens_from_NVT_heating = {}\n",
    "pPot_tr_ens_from_NVT_heating = {}\n",
    "pKin_tr_ens_from_NVT_heating = {}\n",
    "list_of_starting_configurations_from_NVT_heating = {}\n",
    "\n",
    "\n",
    "# generate trajectories and measure execution time\n",
    "initialWallTime = time.perf_counter()\n",
    "\n",
    "# sweep over densities\n",
    "for rho in rho_range:\n",
    "    \n",
    "    # re-initialize starting configurations\n",
    "    list_of_starting_configurations=[]\n",
    "    for n in range(NTrajectories): \n",
    "            list_of_starting_configurations.append([])    \n",
    "    \n",
    "\n",
    "    # sweep over temperatures\n",
    "    for kT in kT_range:\n",
    "        \n",
    "        print(\"rho = \",rho,\", kT = \",kT)\n",
    "        \n",
    "        # Box size\n",
    "        LBox = np.power(NParticles/rho,1./d)\n",
    "\n",
    "\n",
    "        # Equilibrate\n",
    "        # ... reset velocities more often and hope for the best\n",
    "        (t_tr_ens, x_tr_ens, y_tr_ens, vx_tr_ens, vy_tr_ens,\n",
    "         uPot_tr_ens, uKin_tr_ens, pPot_tr_ens, pKin_tr_ens,\n",
    "         list_of_starting_configurations\n",
    "        ) = Generate_Ensemble_of_LJ_NVT_MolecularDynamics_Trajectories(d,m,LBox,kT,NTrajectories,\n",
    "                                                                       run_time_equilibration,\n",
    "                                                                       list_of_starting_configurations=list_of_starting_configurations,\n",
    "                                                                       number_of_time_steps_between_velocity_resets=10)\n",
    "\n",
    "        key = (NParticles,str(round(rho,3)),str(round(kT,2)))\n",
    "        # using floats as key can lead to difficulties, because of their inexact representation\n",
    "        \n",
    "                # Generate data\n",
    "        run_time = 1  # outrageously short\n",
    "        (t_tr_ens_from_NVT_heating[key], \n",
    "         x_tr_ens_from_NVT_heating[key], \n",
    "         y_tr_ens_from_NVT_heating[key], \n",
    "         vx_tr_ens_from_NVT_heating[key], \n",
    "         vy_tr_ens_from_NVT_heating[key],\n",
    "         uPot_tr_ens_from_NVT_heating[key], \n",
    "         uKin_tr_ens_from_NVT_heating[key], \n",
    "         pPot_tr_ens_from_NVT_heating[key], \n",
    "         pKin_tr_ens_from_NVT_heating[key],\n",
    "         list_of_starting_configurations_from_NVT_heating[key]\n",
    "        ) = Generate_Ensemble_of_LJ_NVT_MolecularDynamics_Trajectories(d,m,LBox,kT,NTrajectories,\n",
    "                                                                       run_time_data_acquisition,\n",
    "                                                                       list_of_starting_configurations=list_of_starting_configurations)\n",
    "        \n",
    "\n",
    "print(\"Execution time: \",time.perf_counter() - initialWallTime)"
   ]
  },
  {
   "cell_type": "markdown",
   "id": "9bd26a9e",
   "metadata": {},
   "source": [
    "## Tracé des isothermes"
   ]
  },
  {
   "cell_type": "markdown",
   "id": "52f39f5d",
   "metadata": {},
   "source": [
    "On utilise le \"trick\" consistant à filtrer les dictionnaires"
   ]
  },
  {
   "cell_type": "code",
   "execution_count": 75,
   "id": "39651707",
   "metadata": {},
   "outputs": [],
   "source": [
    "def filterTheDict(dictObj, callback):\n",
    "    '''\n",
    "    Iterate over all the keys in dictionary and call the given callback function() on each key. \n",
    "    Add items for which callback() returns True to a new dictionary. \n",
    "    In the end return the new dictionary.\n",
    "    '''\n",
    "    newDict = dict()\n",
    "    # Iterate over all the items in dictionary\n",
    "    for key in dictObj.keys():\n",
    "        # Check if item satisfies the given condition then add to new dict\n",
    "        if callback(key):\n",
    "            newDict[key] = dictObj[key]\n",
    "    return newDict"
   ]
  },
  {
   "cell_type": "markdown",
   "id": "3d92dcf4",
   "metadata": {},
   "source": [
    "et on plot les isothermes avec leurs barres d'erreurs."
   ]
  },
  {
   "cell_type": "code",
   "execution_count": 80,
   "id": "bf60d138",
   "metadata": {},
   "outputs": [
    {
     "data": {
      "text/plain": [
       "<matplotlib.legend.Legend at 0x2639a6cf250>"
      ]
     },
     "execution_count": 80,
     "metadata": {},
     "output_type": "execute_result"
    },
    {
     "data": {
      "image/png": "[encoded data removed]",
      "text/plain": [
       "<Figure size 432x288 with 1 Axes>"
      ]
     },
     "metadata": {
      "needs_background": "light"
     },
     "output_type": "display_data"
    }
   ],
   "source": [
    "# remember that the keys are stored as strings\n",
    "\n",
    "# sweep over temperatures\n",
    "for kT in kT_range:\n",
    "        \n",
    "    filtered_pPot_tr_ens = filterTheDict(pPot_tr_ens_from_NVT_heating,lambda key : key[2]==str(round(kT,3)) )\n",
    "    filtered_pKin_tr_ens = filterTheDict(pKin_tr_ens_from_NVT_heating,lambda key : key[2]==str(round(kT,3)) )\n",
    "    \n",
    "    rho_list = []\n",
    "    p_list = []\n",
    "    p_error_list = []\n",
    "    \n",
    "    for key in sorted(filtered_pPot_tr_ens):\n",
    "            \n",
    "        rho_list.append(float(key[1]))\n",
    "        \n",
    "        # time average over runs followed by the ensemble average\n",
    "        p_list.append(\n",
    "            np.mean(\n",
    "                np.mean(filtered_pPot_tr_ens[key] +\n",
    "                        filtered_pKin_tr_ens[key],axis=-1) ) )\n",
    "        p_error_list.append(\n",
    "            np.std(\n",
    "                np.mean(filtered_pPot_tr_ens[key] +\n",
    "                        filtered_pKin_tr_ens[key],axis=-1) ) / np.sqrt(NTrajectories))\n",
    "            \n",
    "    plt.errorbar(NParticles/np.array(rho_list),p_list,yerr=p_error_list,label=\"kT = \"+str(kT))\n",
    "plt.xlim(30,140)\n",
    "plt.xlabel(\"V\")\n",
    "plt.ylabel(\"p\")\n",
    "plt.title(\"Isothermes de pression pour N_particules={}\".format(NParticles))\n",
    "plt.legend()"
   ]
  },
  {
   "cell_type": "markdown",
   "id": "a258dea5",
   "metadata": {},
   "source": [
    "On remarque qu'à $\\dfrac{kT}{\\varepsilon}=0.25$, la pression admet un minimum ce qui trahit la présence d'une transition de phase."
   ]
  },
  {
   "cell_type": "code",
   "execution_count": null,
   "id": "ecbd65e5",
   "metadata": {},
   "outputs": [],
   "source": []
  }
 ],
 "metadata": {
  "kernelspec": {
   "display_name": "Python 3 (ipykernel)",
   "language": "python",
   "name": "python3"
  },
  "language_info": {
   "codemirror_mode": {
    "name": "ipython",
    "version": 3
   },
   "file_extension": ".py",
   "mimetype": "text/x-python",
   "name": "python",
   "nbconvert_exporter": "python",
   "pygments_lexer": "ipython3",
   "version": "3.9.7"
  }
 },
 "nbformat": 4,
 "nbformat_minor": 5
}
